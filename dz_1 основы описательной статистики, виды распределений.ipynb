{
 "cells": [
  {
   "cell_type": "markdown",
   "metadata": {
    "colab_type": "text",
    "id": "QVI-7gzMl70f"
   },
   "source": [
    "# Домашнее задание по статистическому анализу на python"
   ]
  },
  {
   "cell_type": "markdown",
   "metadata": {},
   "source": [
    "### Пометка\n",
    "Для более лучшего восприятия, изначальные задания я сделал в виде заголовков. Теперь они выделены жирным и их проще увидеть среди остального текста работы."
   ]
  },
  {
   "cell_type": "code",
   "execution_count": 1,
   "metadata": {
    "colab": {},
    "colab_type": "code",
    "id": "4IGVqb7KvSxe"
   },
   "outputs": [],
   "source": [
    "import pandas as pd\n",
    "import numpy as np\n",
    "import matplotlib.pyplot as plt\n",
    "import scipy.stats as sts\n",
    "%matplotlib inline\n",
    "import statistics"
   ]
  },
  {
   "cell_type": "markdown",
   "metadata": {
    "colab_type": "text",
    "id": "cCvZIO1Kh7vZ"
   },
   "source": [
    "Загрузить датасет по url:\n"
   ]
  },
  {
   "cell_type": "code",
   "execution_count": 2,
   "metadata": {
    "colab": {},
    "colab_type": "code",
    "id": "csAWXiRvh_YM"
   },
   "outputs": [],
   "source": [
    "url=\"http://yustiks.ru/dataset/world-happiness-report-2019.csv\"\n",
    "df = pd.read_csv(url)"
   ]
  },
  {
   "cell_type": "markdown",
   "metadata": {
    "colab_type": "text",
    "id": "UN13GCGcijj_"
   },
   "source": [
    "World happiness gauged by technologies, social norms, and government policies. Dataset created by PromptCloud's web crawling solution."
   ]
  },
  {
   "cell_type": "markdown",
   "metadata": {
    "colab_type": "text",
    "id": "2NSXs9iSi0dU"
   },
   "source": [
    "\n",
    "*  **Country (region)** Name of the country.\n",
    "*  **Ladder** Cantril Ladder is a measure of life satisfaction.\n",
    "*  **SD of Ladder** Standard deviation of the ladder.\n",
    "*  **Positive affect** Measure of positive emotion.\n",
    "*  **Negative affect** Measure of negative emotion.\n",
    "*  **Social support** The extent to which Social support contributed to the calculation of the Happiness Score.\n",
    "*  **Freedom** The extent to which Freedom contributed to the calculation of the Happiness Score.\n",
    "*  **Corruption** The extent to which Perception of Corruption contributes to Happiness Score.\n",
    "*  **Generosity** The extent to which Generosity contributed to the calculation of the Happiness Score.\n",
    "*  **Log of GDP per capita** The extent to which GDP contributes to the calculation of the Happiness Score.\n",
    "*  **Healthy life expectancy** The extent to which Life expectancy contributed to the calculation of the Happiness Score."
   ]
  },
  {
   "cell_type": "markdown",
   "metadata": {
    "colab_type": "text",
    "id": "23plwhw1j0ba"
   },
   "source": [
    "#### Посмотреть первые несколько рядов таблицы"
   ]
  },
  {
   "cell_type": "code",
   "execution_count": 3,
   "metadata": {
    "colab": {},
    "colab_type": "code",
    "id": "QCIq_bWfj7IG"
   },
   "outputs": [
    {
     "data": {
      "text/html": [
       "<div>\n",
       "<style scoped>\n",
       "    .dataframe tbody tr th:only-of-type {\n",
       "        vertical-align: middle;\n",
       "    }\n",
       "\n",
       "    .dataframe tbody tr th {\n",
       "        vertical-align: top;\n",
       "    }\n",
       "\n",
       "    .dataframe thead th {\n",
       "        text-align: right;\n",
       "    }\n",
       "</style>\n",
       "<table border=\"1\" class=\"dataframe\">\n",
       "  <thead>\n",
       "    <tr style=\"text-align: right;\">\n",
       "      <th></th>\n",
       "      <th>Country (region)</th>\n",
       "      <th>Ladder</th>\n",
       "      <th>SD of Ladder</th>\n",
       "      <th>Positive affect</th>\n",
       "      <th>Negative affect</th>\n",
       "      <th>Social support</th>\n",
       "      <th>Freedom</th>\n",
       "      <th>Corruption</th>\n",
       "      <th>Generosity</th>\n",
       "      <th>Log of GDP\\nper capita</th>\n",
       "      <th>Healthy life\\nexpectancy</th>\n",
       "    </tr>\n",
       "  </thead>\n",
       "  <tbody>\n",
       "    <tr>\n",
       "      <td>0</td>\n",
       "      <td>Finland</td>\n",
       "      <td>1</td>\n",
       "      <td>4</td>\n",
       "      <td>41.0</td>\n",
       "      <td>10.0</td>\n",
       "      <td>2.0</td>\n",
       "      <td>5.0</td>\n",
       "      <td>4.0</td>\n",
       "      <td>47.0</td>\n",
       "      <td>22.0</td>\n",
       "      <td>27.0</td>\n",
       "    </tr>\n",
       "    <tr>\n",
       "      <td>1</td>\n",
       "      <td>Denmark</td>\n",
       "      <td>2</td>\n",
       "      <td>13</td>\n",
       "      <td>24.0</td>\n",
       "      <td>26.0</td>\n",
       "      <td>4.0</td>\n",
       "      <td>6.0</td>\n",
       "      <td>3.0</td>\n",
       "      <td>22.0</td>\n",
       "      <td>14.0</td>\n",
       "      <td>23.0</td>\n",
       "    </tr>\n",
       "    <tr>\n",
       "      <td>2</td>\n",
       "      <td>Norway</td>\n",
       "      <td>3</td>\n",
       "      <td>8</td>\n",
       "      <td>16.0</td>\n",
       "      <td>29.0</td>\n",
       "      <td>3.0</td>\n",
       "      <td>3.0</td>\n",
       "      <td>8.0</td>\n",
       "      <td>11.0</td>\n",
       "      <td>7.0</td>\n",
       "      <td>12.0</td>\n",
       "    </tr>\n",
       "    <tr>\n",
       "      <td>3</td>\n",
       "      <td>Iceland</td>\n",
       "      <td>4</td>\n",
       "      <td>9</td>\n",
       "      <td>3.0</td>\n",
       "      <td>3.0</td>\n",
       "      <td>1.0</td>\n",
       "      <td>7.0</td>\n",
       "      <td>45.0</td>\n",
       "      <td>3.0</td>\n",
       "      <td>15.0</td>\n",
       "      <td>13.0</td>\n",
       "    </tr>\n",
       "    <tr>\n",
       "      <td>4</td>\n",
       "      <td>Netherlands</td>\n",
       "      <td>5</td>\n",
       "      <td>1</td>\n",
       "      <td>12.0</td>\n",
       "      <td>25.0</td>\n",
       "      <td>15.0</td>\n",
       "      <td>19.0</td>\n",
       "      <td>12.0</td>\n",
       "      <td>7.0</td>\n",
       "      <td>12.0</td>\n",
       "      <td>18.0</td>\n",
       "    </tr>\n",
       "  </tbody>\n",
       "</table>\n",
       "</div>"
      ],
      "text/plain": [
       "  Country (region)  Ladder  SD of Ladder  Positive affect  Negative affect  \\\n",
       "0          Finland       1             4             41.0             10.0   \n",
       "1          Denmark       2            13             24.0             26.0   \n",
       "2           Norway       3             8             16.0             29.0   \n",
       "3          Iceland       4             9              3.0              3.0   \n",
       "4      Netherlands       5             1             12.0             25.0   \n",
       "\n",
       "   Social support  Freedom  Corruption  Generosity  Log of GDP\\nper capita  \\\n",
       "0             2.0      5.0         4.0        47.0                    22.0   \n",
       "1             4.0      6.0         3.0        22.0                    14.0   \n",
       "2             3.0      3.0         8.0        11.0                     7.0   \n",
       "3             1.0      7.0        45.0         3.0                    15.0   \n",
       "4            15.0     19.0        12.0         7.0                    12.0   \n",
       "\n",
       "   Healthy life\\nexpectancy  \n",
       "0                      27.0  \n",
       "1                      23.0  \n",
       "2                      12.0  \n",
       "3                      13.0  \n",
       "4                      18.0  "
      ]
     },
     "execution_count": 3,
     "metadata": {},
     "output_type": "execute_result"
    }
   ],
   "source": [
    "df.head()"
   ]
  },
  {
   "cell_type": "markdown",
   "metadata": {
    "colab_type": "text",
    "id": "XCFa8CtdjrqJ"
   },
   "source": [
    "#### Построить частотный график для двух параметров: Freedom и positive affect. Какое это распределение?"
   ]
  },
  {
   "cell_type": "markdown",
   "metadata": {},
   "source": [
    "Для того, чтобы проводить исследования нашего датафрейма, сперва хочу обработать данные на момент выбросов.\n",
    "\n",
    "Для этого я изучу информацию о нашем датафрейме:"
   ]
  },
  {
   "cell_type": "code",
   "execution_count": 4,
   "metadata": {},
   "outputs": [
    {
     "name": "stdout",
     "output_type": "stream",
     "text": [
      "<class 'pandas.core.frame.DataFrame'>\n",
      "RangeIndex: 156 entries, 0 to 155\n",
      "Data columns (total 11 columns):\n",
      "Country (region)           156 non-null object\n",
      "Ladder                     156 non-null int64\n",
      "SD of Ladder               156 non-null int64\n",
      "Positive affect            155 non-null float64\n",
      "Negative affect            155 non-null float64\n",
      "Social support             155 non-null float64\n",
      "Freedom                    155 non-null float64\n",
      "Corruption                 148 non-null float64\n",
      "Generosity                 155 non-null float64\n",
      "Log of GDP\n",
      "per capita      152 non-null float64\n",
      "Healthy life\n",
      "expectancy    150 non-null float64\n",
      "dtypes: float64(8), int64(2), object(1)\n",
      "memory usage: 13.5+ KB\n"
     ]
    }
   ],
   "source": [
    "df.info()"
   ]
  },
  {
   "cell_type": "markdown",
   "metadata": {},
   "source": [
    "Для моего первого задания мне необходимо обратить внимание на два столбца - Freedom и Positive affect.\n",
    "\n",
    "Оба этих столбца имеют как минмиум 1 битую запись"
   ]
  },
  {
   "cell_type": "code",
   "execution_count": 5,
   "metadata": {},
   "outputs": [
    {
     "name": "stdout",
     "output_type": "stream",
     "text": [
      "<class 'pandas.core.frame.DataFrame'>\n",
      "Int64Index: 155 entries, 0 to 155\n",
      "Data columns (total 11 columns):\n",
      "Country (region)           155 non-null object\n",
      "Ladder                     155 non-null int64\n",
      "SD of Ladder               155 non-null int64\n",
      "Positive affect            155 non-null float64\n",
      "Negative affect            155 non-null float64\n",
      "Social support             155 non-null float64\n",
      "Freedom                    155 non-null float64\n",
      "Corruption                 148 non-null float64\n",
      "Generosity                 155 non-null float64\n",
      "Log of GDP\n",
      "per capita      151 non-null float64\n",
      "Healthy life\n",
      "expectancy    149 non-null float64\n",
      "dtypes: float64(8), int64(2), object(1)\n",
      "memory usage: 14.5+ KB\n"
     ]
    }
   ],
   "source": [
    "df = df[df['Freedom'].notna() & df['Positive affect'].notna()]\n",
    "df.info()"
   ]
  },
  {
   "cell_type": "markdown",
   "metadata": {},
   "source": [
    "Как видно, после чистки данных по двум колонкам, мы потеряли лишь 1 строчку записи.\n",
    "\n",
    "Теперь можно приступить к частотному анализу."
   ]
  },
  {
   "cell_type": "code",
   "execution_count": 6,
   "metadata": {
    "colab": {},
    "colab_type": "code",
    "id": "Ia4zd3G2kUEI"
   },
   "outputs": [
    {
     "data": {
      "image/png": "[encoded data removed]",
      "text/plain": [
       "<Figure size 432x288 with 1 Axes>"
      ]
     },
     "metadata": {
      "needs_background": "light"
     },
     "output_type": "display_data"
    }
   ],
   "source": [
    "plt.hist(df['Freedom'])\n",
    "plt.grid(True)\n",
    "\n",
    "plt.title('Частотный график колонки Freedom')\n",
    "plt.xlabel('Уровень свободы')\n",
    "plt.ylabel('Частотность')\n",
    "\n",
    "plt.show()"
   ]
  },
  {
   "cell_type": "code",
   "execution_count": 7,
   "metadata": {},
   "outputs": [
    {
     "data": {
      "image/png": "[encoded data removed]",
      "text/plain": [
       "<Figure size 432x288 with 1 Axes>"
      ]
     },
     "metadata": {
      "needs_background": "light"
     },
     "output_type": "display_data"
    }
   ],
   "source": [
    "plt.hist(df['Positive affect'])\n",
    "plt.grid(True)\n",
    "\n",
    "plt.title('Частотный график колонки Positive affect')\n",
    "plt.xlabel('Уровень положительного влияния')\n",
    "plt.ylabel('Частотность')\n",
    "\n",
    "plt.show()"
   ]
  },
  {
   "cell_type": "markdown",
   "metadata": {},
   "source": [
    "Как видно из графиков, на обоих из них, распределение - равномерное.\n",
    "\n",
    "При этом, графики для двух разных показателей выглядят практически одинаково."
   ]
  },
  {
   "cell_type": "markdown",
   "metadata": {
    "colab_type": "text",
    "id": "nBwpKop7j8HH"
   },
   "source": [
    "#### Найти медиану, моду, математическое ожидание, стандартное отклонение,  дисперсию, минимум и максимум, найти выбросы (если есть), размах для колонки Freedom"
   ]
  },
  {
   "cell_type": "markdown",
   "metadata": {},
   "source": [
    "Для бОльшей практики, каждую из метрик я решил получить при помощи найденного готового решения и алгоритмического решения.\n",
    "\n",
    "Готовые решения я нумерую 1, а алгоритмические - 2:"
   ]
  },
  {
   "cell_type": "code",
   "execution_count": 8,
   "metadata": {
    "colab": {},
    "colab_type": "code",
    "id": "yjqwOGyskPXw"
   },
   "outputs": [],
   "source": [
    "working_series = df['Freedom']"
   ]
  },
  {
   "cell_type": "code",
   "execution_count": 9,
   "metadata": {},
   "outputs": [
    {
     "name": "stdout",
     "output_type": "stream",
     "text": [
      "median1 78.0\n",
      "median2 78.0\n"
     ]
    }
   ],
   "source": [
    "# median\n",
    "\n",
    "def get_median(data_list):\n",
    "    sorted_data = sorted(data_list)\n",
    "    middle_index = len(sorted_data) // 2\n",
    "    \n",
    "    if len(data_list) % 2 == 0:\n",
    "        return (sorted_data[middle_index - 1] + sorted_data[middle_index]) / 2\n",
    "    else:\n",
    "        return sorted_data[middle_index]\n",
    "\n",
    "median1 = np.median(working_series)\n",
    "median2 = get_median(working_series)\n",
    "\n",
    "print('median1', median1)\n",
    "print('median2', median2)"
   ]
  },
  {
   "cell_type": "code",
   "execution_count": 10,
   "metadata": {
    "colab": {},
    "colab_type": "code",
    "id": "mHKzz4H_kmto"
   },
   "outputs": [
    {
     "name": "stdout",
     "output_type": "stream",
     "text": [
      "mode1 [1.]\n",
      "mode2 5.0\n"
     ]
    }
   ],
   "source": [
    "# mode\n",
    "\n",
    "def get_mode(data_list):\n",
    "    result = {}\n",
    "    \n",
    "    for key in data_list:\n",
    "        result.setdefault(key, 0)\n",
    "        result[key] += 1\n",
    "        \n",
    "    return {\n",
    "        'result': result,\n",
    "        'mode': max(result, key=lambda key: result[key]),\n",
    "    }\n",
    "\n",
    "mode1 = sts.mode(working_series).mode\n",
    "mode2 = get_mode(working_series)['mode']\n",
    "\n",
    "print('mode1', mode1)\n",
    "print('mode2', mode2)"
   ]
  },
  {
   "cell_type": "markdown",
   "metadata": {},
   "source": [
    "Интересный результат, попытаемся его объяснить.\n",
    "\n",
    "Для этого я получу подсчитанный словарь и посмотрю, в чём там дело:"
   ]
  },
  {
   "cell_type": "code",
   "execution_count": 11,
   "metadata": {},
   "outputs": [
    {
     "name": "stdout",
     "output_type": "stream",
     "text": [
      "\n",
      "df min:\n",
      "index    1.0\n",
      "0        1.0\n",
      "dtype: float64\n",
      "\n",
      "df max:\n",
      "index    155.0\n",
      "0          1.0\n",
      "dtype: float64\n",
      "\n"
     ]
    }
   ],
   "source": [
    "mode_dict = get_mode(working_series)['result']\n",
    "\n",
    "mode_df = pd.DataFrame.from_dict(mode_dict, orient='index').reset_index()\n",
    "\n",
    "print(\n",
    "f\"\"\"\n",
    "df min:\n",
    "{mode_df.min()}\n",
    "\n",
    "df max:\n",
    "{mode_df.max()}\n",
    "\"\"\"\n",
    ")"
   ]
  },
  {
   "cell_type": "markdown",
   "metadata": {},
   "source": [
    "Очевидно, каждое значение в колонке df['Freedom'] уникально и встречается 1 раз.\n",
    "\n",
    "Эту гипотезу легко проверить"
   ]
  },
  {
   "cell_type": "code",
   "execution_count": 12,
   "metadata": {},
   "outputs": [
    {
     "name": "stdout",
     "output_type": "stream",
     "text": [
      "Гипотеза верна\n"
     ]
    }
   ],
   "source": [
    "if len(working_series) == len(working_series.unique()):\n",
    "    print('Гипотеза верна')\n",
    "else:\n",
    "    print('Гипотеза не верна')"
   ]
  },
  {
   "cell_type": "code",
   "execution_count": 13,
   "metadata": {},
   "outputs": [
    {
     "name": "stdout",
     "output_type": "stream",
     "text": [
      "mean1 78.0\n",
      "mean2 78.0\n"
     ]
    }
   ],
   "source": [
    "# mean\n",
    "\n",
    "mean1 = working_series.mean()\n",
    "mean2 = sum(working_series) / len(working_series)\n",
    "\n",
    "print('mean1', mean1)\n",
    "print('mean2', mean2)"
   ]
  },
  {
   "cell_type": "code",
   "execution_count": 14,
   "metadata": {},
   "outputs": [
    {
     "name": "stdout",
     "output_type": "stream",
     "text": [
      "deviation1 44.74371464239419\n",
      "deviation2 44.74371464239419\n"
     ]
    }
   ],
   "source": [
    "# standart deviation\n",
    "import math\n",
    "\n",
    "def get_standart_deviation(data_list):\n",
    "    # calculation is native for supporting lot of iterable data structures\n",
    "    mean = sum(data_list) / len(data_list)\n",
    "    return math.sqrt(\n",
    "        sum((np.array(data_list) - mean)**2) / len(data_list)\n",
    "    )\n",
    "\n",
    "deviation1 = np.std(working_series)\n",
    "deviation2 = get_standart_deviation(working_series)\n",
    "\n",
    "print('deviation1', deviation1)\n",
    "print('deviation2', deviation2)"
   ]
  },
  {
   "cell_type": "code",
   "execution_count": 15,
   "metadata": {},
   "outputs": [
    {
     "name": "stdout",
     "output_type": "stream",
     "text": [
      "dispersion1 2002.0\n",
      "dispersion2 2002.0\n"
     ]
    }
   ],
   "source": [
    "# variance of normal distribution\n",
    "\n",
    "def get_var_of_norm_dist(data_list):\n",
    "    return get_standart_deviation(data_list)**2\n",
    "\n",
    "dispersion1 = np.var(working_series)\n",
    "dispersion2 = get_var_of_norm_dist(working_series)\n",
    "\n",
    "print('dispersion1', dispersion1)\n",
    "print('dispersion2', dispersion2)"
   ]
  },
  {
   "cell_type": "code",
   "execution_count": 16,
   "metadata": {},
   "outputs": [
    {
     "name": "stdout",
     "output_type": "stream",
     "text": [
      "working_min 1.0\n",
      "working_max 155.0\n",
      "working_scope 154.0\n"
     ]
    }
   ],
   "source": [
    "# min max\n",
    "\n",
    "working_min = min(working_series)\n",
    "working_max = max(working_series)\n",
    "working_scope = working_max - working_min\n",
    "\n",
    "print('working_min', working_min)\n",
    "print('working_max', working_max)\n",
    "print('working_scope', working_scope)"
   ]
  },
  {
   "cell_type": "markdown",
   "metadata": {},
   "source": [
    "Выборсы мы отбросили в начале нашего исследования"
   ]
  },
  {
   "cell_type": "markdown",
   "metadata": {},
   "source": [
    "#### Посмотреть корреляцию между Freedom и positive affect (графически и математически). Графически - plt.scatter, математически - посчитать коэффициент Пирсона. О чем говорит знак коэффициента?"
   ]
  },
  {
   "cell_type": "code",
   "execution_count": 17,
   "metadata": {},
   "outputs": [
    {
     "data": {
      "image/png": "[encoded data removed]",
      "text/plain": [
       "<Figure size 432x288 with 1 Axes>"
      ]
     },
     "metadata": {
      "needs_background": "light"
     },
     "output_type": "display_data"
    }
   ],
   "source": [
    "x = df['Freedom']\n",
    "y = df['Positive affect']\n",
    "\n",
    "plt.scatter(x, y)\n",
    "plt.title('Графическая корреляция')\n",
    "plt.xlabel('Значения Freedom')\n",
    "plt.ylabel('Значения Positive affect')\n",
    "\n",
    "plt.show()"
   ]
  },
  {
   "cell_type": "code",
   "execution_count": 18,
   "metadata": {},
   "outputs": [
    {
     "name": "stdout",
     "output_type": "stream",
     "text": [
      "Коэффициент корреляции Пирсона 0.6817698430601656\n"
     ]
    }
   ],
   "source": [
    "corr, _ = sts.pearsonr(x, y)\n",
    "print(f'Коэффициент корреляции Пирсона {corr}')"
   ]
  },
  {
   "cell_type": "markdown",
   "metadata": {},
   "source": [
    "Как можно заметить выше, коэффициент корреляции Пирсона выше нуля, это означает, что корреляция - **возрастающая**"
   ]
  },
  {
   "cell_type": "markdown",
   "metadata": {
    "colab_type": "text",
    "id": "D6nsF28EksAu"
   },
   "source": [
    "#### Нормализовать данные колонки Freedom (централизация + масштабирование)"
   ]
  },
  {
   "cell_type": "code",
   "execution_count": 19,
   "metadata": {
    "colab": {},
    "colab_type": "code",
    "id": "-OxSDHuXkywQ"
   },
   "outputs": [
    {
     "name": "stdout",
     "output_type": "stream",
     "text": [
      "normalize_mean 0.0\n",
      "scaled_series min -1.0\n",
      "scaled_series max 1.0\n"
     ]
    }
   ],
   "source": [
    "from sklearn import preprocessing\n",
    "\n",
    "working_series = df['Freedom']\n",
    "normalize_series = working_series - working_series.mean()\n",
    "\n",
    "print('normalize_mean', normalize_series.mean())\n",
    "\n",
    "min_max_scaler = preprocessing.MinMaxScaler(feature_range=(-1,1))\n",
    "scaled_series = min_max_scaler.fit_transform(np.array(normalize_series).reshape(-1, 1))\n",
    "\n",
    "print('scaled_series min', scaled_series.min())\n",
    "print('scaled_series max', scaled_series.max())"
   ]
  },
  {
   "cell_type": "markdown",
   "metadata": {
    "colab_type": "text",
    "id": "4eOPS6fpkzKO"
   },
   "source": [
    "#### Построить матрицу корреляций для всех колонок таблицы"
   ]
  },
  {
   "cell_type": "markdown",
   "metadata": {},
   "source": [
    "В начале упражнения я очистил от выбросов только две колонки, над которыми проводил исследования. Сейчас же моё исследование будет затрагивать сразу все колонки датафрейма. Поэтому, я считаю, что прежде необходимо избавиться от всех не валидных значений"
   ]
  },
  {
   "cell_type": "code",
   "execution_count": 20,
   "metadata": {},
   "outputs": [
    {
     "name": "stdout",
     "output_type": "stream",
     "text": [
      "<class 'pandas.core.frame.DataFrame'>\n",
      "Int64Index: 155 entries, 0 to 155\n",
      "Data columns (total 11 columns):\n",
      "Country (region)           155 non-null object\n",
      "Ladder                     155 non-null int64\n",
      "SD of Ladder               155 non-null int64\n",
      "Positive affect            155 non-null float64\n",
      "Negative affect            155 non-null float64\n",
      "Social support             155 non-null float64\n",
      "Freedom                    155 non-null float64\n",
      "Corruption                 148 non-null float64\n",
      "Generosity                 155 non-null float64\n",
      "Log of GDP\n",
      "per capita      151 non-null float64\n",
      "Healthy life\n",
      "expectancy    149 non-null float64\n",
      "dtypes: float64(8), int64(2), object(1)\n",
      "memory usage: 14.5+ KB\n"
     ]
    }
   ],
   "source": [
    "df.info()"
   ]
  },
  {
   "cell_type": "markdown",
   "metadata": {},
   "source": [
    "Как мы видим, в нашем датафрейме осталось 155 записей и некоторые колонки расходятся по длине с другими колонками по признаку \"non-null\". Избавимся от лишних данных:"
   ]
  },
  {
   "cell_type": "code",
   "execution_count": 21,
   "metadata": {},
   "outputs": [
    {
     "name": "stdout",
     "output_type": "stream",
     "text": [
      "<class 'pandas.core.frame.DataFrame'>\n",
      "Int64Index: 140 entries, 0 to 155\n",
      "Data columns (total 11 columns):\n",
      "Country (region)           140 non-null object\n",
      "Ladder                     140 non-null int64\n",
      "SD of Ladder               140 non-null int64\n",
      "Positive affect            140 non-null float64\n",
      "Negative affect            140 non-null float64\n",
      "Social support             140 non-null float64\n",
      "Freedom                    140 non-null float64\n",
      "Corruption                 140 non-null float64\n",
      "Generosity                 140 non-null float64\n",
      "Log of GDP\n",
      "per capita      140 non-null float64\n",
      "Healthy life\n",
      "expectancy    140 non-null float64\n",
      "dtypes: float64(8), int64(2), object(1)\n",
      "memory usage: 13.1+ KB\n"
     ]
    }
   ],
   "source": [
    "df.dropna(inplace=True)\n",
    "df.info()"
   ]
  },
  {
   "cell_type": "markdown",
   "metadata": {},
   "source": [
    "Теперь в нашей таблице осталось лишь 140 записей, но все данные теперь валидны. Можно построить матрицу корреляций из всех колонок"
   ]
  },
  {
   "cell_type": "markdown",
   "metadata": {},
   "source": [
    "#### UPD: \n",
    "подготовка на предыдущем этапе не требовалась, т.к. я буду пользоваться методом `pandas.DataFrame.corr()`, а он, как заявленно в документации, сам отметает все NA/null значения..."
   ]
  },
  {
   "cell_type": "code",
   "execution_count": 28,
   "metadata": {
    "colab": {},
    "colab_type": "code",
    "id": "M4eCTmwtlCzY"
   },
   "outputs": [
    {
     "data": {
      "image/png": "[encoded data removed]",
      "text/plain": [
       "<Figure size 864x864 with 2 Axes>"
      ]
     },
     "metadata": {
      "needs_background": "light"
     },
     "output_type": "display_data"
    }
   ],
   "source": [
    "import seaborn as sns\n",
    "\n",
    "plt.subplots(figsize=(12, 12))\n",
    "sns.heatmap(\n",
    "    df.corr(),\n",
    "    annot=True,\n",
    "    cmap='YlGn',\n",
    "    linewidths=.5\n",
    ")\n",
    "\n",
    "plt.show()"
   ]
  },
  {
   "cell_type": "markdown",
   "metadata": {
    "colab_type": "text",
    "id": "RAbZRTRG2Ci0"
   },
   "source": [
    "#### Загрузить следующую таблицу: "
   ]
  },
  {
   "cell_type": "code",
   "execution_count": 29,
   "metadata": {
    "colab": {
     "base_uri": "https://localhost:8080/",
     "height": 210
    },
    "colab_type": "code",
    "id": "gmgMOe_e2H-_",
    "outputId": "660725cd-b466-4ee4-f374-6f0d94c589ef"
   },
   "outputs": [
    {
     "data": {
      "text/html": [
       "<div>\n",
       "<style scoped>\n",
       "    .dataframe tbody tr th:only-of-type {\n",
       "        vertical-align: middle;\n",
       "    }\n",
       "\n",
       "    .dataframe tbody tr th {\n",
       "        vertical-align: top;\n",
       "    }\n",
       "\n",
       "    .dataframe thead th {\n",
       "        text-align: right;\n",
       "    }\n",
       "</style>\n",
       "<table border=\"1\" class=\"dataframe\">\n",
       "  <thead>\n",
       "    <tr style=\"text-align: right;\">\n",
       "      <th></th>\n",
       "      <th>Unnamed: 0</th>\n",
       "      <th>Date</th>\n",
       "      <th>AveragePrice</th>\n",
       "      <th>Total Volume</th>\n",
       "      <th>4046</th>\n",
       "      <th>4225</th>\n",
       "      <th>4770</th>\n",
       "      <th>Total Bags</th>\n",
       "      <th>Small Bags</th>\n",
       "      <th>Large Bags</th>\n",
       "      <th>XLarge Bags</th>\n",
       "      <th>type</th>\n",
       "      <th>year</th>\n",
       "      <th>region</th>\n",
       "    </tr>\n",
       "  </thead>\n",
       "  <tbody>\n",
       "    <tr>\n",
       "      <td>0</td>\n",
       "      <td>0</td>\n",
       "      <td>2015-12-27</td>\n",
       "      <td>1.33</td>\n",
       "      <td>64236.62</td>\n",
       "      <td>1036.74</td>\n",
       "      <td>54454.85</td>\n",
       "      <td>48.16</td>\n",
       "      <td>8696.87</td>\n",
       "      <td>8603.62</td>\n",
       "      <td>93.25</td>\n",
       "      <td>0.0</td>\n",
       "      <td>conventional</td>\n",
       "      <td>2015</td>\n",
       "      <td>Albany</td>\n",
       "    </tr>\n",
       "    <tr>\n",
       "      <td>1</td>\n",
       "      <td>1</td>\n",
       "      <td>2015-12-20</td>\n",
       "      <td>1.35</td>\n",
       "      <td>54876.98</td>\n",
       "      <td>674.28</td>\n",
       "      <td>44638.81</td>\n",
       "      <td>58.33</td>\n",
       "      <td>9505.56</td>\n",
       "      <td>9408.07</td>\n",
       "      <td>97.49</td>\n",
       "      <td>0.0</td>\n",
       "      <td>conventional</td>\n",
       "      <td>2015</td>\n",
       "      <td>Albany</td>\n",
       "    </tr>\n",
       "    <tr>\n",
       "      <td>2</td>\n",
       "      <td>2</td>\n",
       "      <td>2015-12-13</td>\n",
       "      <td>0.93</td>\n",
       "      <td>118220.22</td>\n",
       "      <td>794.70</td>\n",
       "      <td>109149.67</td>\n",
       "      <td>130.50</td>\n",
       "      <td>8145.35</td>\n",
       "      <td>8042.21</td>\n",
       "      <td>103.14</td>\n",
       "      <td>0.0</td>\n",
       "      <td>conventional</td>\n",
       "      <td>2015</td>\n",
       "      <td>Albany</td>\n",
       "    </tr>\n",
       "  </tbody>\n",
       "</table>\n",
       "</div>"
      ],
      "text/plain": [
       "   Unnamed: 0        Date  AveragePrice  Total Volume     4046       4225  \\\n",
       "0           0  2015-12-27          1.33      64236.62  1036.74   54454.85   \n",
       "1           1  2015-12-20          1.35      54876.98   674.28   44638.81   \n",
       "2           2  2015-12-13          0.93     118220.22   794.70  109149.67   \n",
       "\n",
       "     4770  Total Bags  Small Bags  Large Bags  XLarge Bags          type  \\\n",
       "0   48.16     8696.87     8603.62       93.25          0.0  conventional   \n",
       "1   58.33     9505.56     9408.07       97.49          0.0  conventional   \n",
       "2  130.50     8145.35     8042.21      103.14          0.0  conventional   \n",
       "\n",
       "   year  region  \n",
       "0  2015  Albany  \n",
       "1  2015  Albany  \n",
       "2  2015  Albany  "
      ]
     },
     "execution_count": 29,
     "metadata": {},
     "output_type": "execute_result"
    }
   ],
   "source": [
    "import io\n",
    "import requests\n",
    "url=\"http://yustiks.ru/avocado.csv\"\n",
    "df=pd.read_csv(url)\n",
    "df[:3]"
   ]
  },
  {
   "cell_type": "markdown",
   "metadata": {},
   "source": [
    "Перед началом исследования оценим качество данных"
   ]
  },
  {
   "cell_type": "code",
   "execution_count": 46,
   "metadata": {},
   "outputs": [
    {
     "name": "stdout",
     "output_type": "stream",
     "text": [
      "<class 'pandas.core.frame.DataFrame'>\n",
      "RangeIndex: 18249 entries, 0 to 18248\n",
      "Data columns (total 14 columns):\n",
      "Unnamed: 0      18249 non-null int64\n",
      "Date            18249 non-null object\n",
      "AveragePrice    18249 non-null float64\n",
      "Total Volume    18249 non-null float64\n",
      "4046            18249 non-null float64\n",
      "4225            18249 non-null float64\n",
      "4770            18249 non-null float64\n",
      "Total Bags      18249 non-null float64\n",
      "Small Bags      18249 non-null float64\n",
      "Large Bags      18249 non-null float64\n",
      "XLarge Bags     18249 non-null float64\n",
      "type            18249 non-null object\n",
      "year            18249 non-null int64\n",
      "region          18249 non-null object\n",
      "dtypes: float64(9), int64(2), object(3)\n",
      "memory usage: 1.9+ MB\n"
     ]
    }
   ],
   "source": [
    "df.info()"
   ]
  },
  {
   "cell_type": "markdown",
   "metadata": {},
   "source": [
    "Судя по информации о датафрейме, битых данных нет"
   ]
  },
  {
   "cell_type": "markdown",
   "metadata": {
    "colab_type": "text",
    "id": "QmBGvAQKlkwq"
   },
   "source": [
    "#### Сделать частотный график колонки AveragePrice. Какое это распределение?"
   ]
  },
  {
   "cell_type": "code",
   "execution_count": 44,
   "metadata": {
    "colab": {},
    "colab_type": "code",
    "id": "Und8GJxWlqIy"
   },
   "outputs": [
    {
     "data": {
      "image/png": "[encoded data removed]",
      "text/plain": [
       "<Figure size 432x288 with 1 Axes>"
      ]
     },
     "metadata": {
      "needs_background": "light"
     },
     "output_type": "display_data"
    }
   ],
   "source": [
    "plt.hist(df['AveragePrice'], bins=50)\n",
    "\n",
    "plt.title('Частотность колонки AveragePrice')\n",
    "plt.xlabel('AveragePrice')\n",
    "plt.ylabel('Частотность')\n",
    "\n",
    "plt.show()"
   ]
  },
  {
   "cell_type": "markdown",
   "metadata": {},
   "source": [
    "Частотный анализ графика колонки AveragePrice показал, что она имеет нормальное распределение"
   ]
  },
  {
   "cell_type": "markdown",
   "metadata": {
    "colab_type": "text",
    "id": "mCi-XdIAlrD4"
   },
   "source": [
    "#### Найти корреляцию в следующих колонках:"
   ]
  },
  {
   "cell_type": "markdown",
   "metadata": {
    "colab_type": "text",
    "id": "zR3V0X_T1_4Y"
   },
   "source": [
    "#### Корелляция между: 4046 - Total number of avocados with PLU 4046 sold  и например Average Price. Если корелляция есть, то скорее всего, данный вид авокадо дорогой по цене и он влияет на среднюю стоимость."
   ]
  },
  {
   "cell_type": "code",
   "execution_count": 58,
   "metadata": {
    "colab": {},
    "colab_type": "code",
    "id": "RkPfhTovlvtk"
   },
   "outputs": [
    {
     "data": {
      "image/png": "[encoded data removed]",
      "text/plain": [
       "<Figure size 1080x720 with 1 Axes>"
      ]
     },
     "metadata": {
      "needs_background": "light"
     },
     "output_type": "display_data"
    }
   ],
   "source": [
    "x_col_name = '4046'\n",
    "y_col_name = 'AveragePrice'\n",
    "\n",
    "x = df[x_col_name]\n",
    "y = df[y_col_name]\n",
    "\n",
    "plt.figure(figsize=(15, 10))\n",
    "plt.scatter(x, y, marker='x')\n",
    "\n",
    "plt.title(f'Корреляция между {x_col_name} и {y_col_name}')\n",
    "plt.xlabel(x_col_name)\n",
    "plt.ylabel(y_col_name)\n",
    "\n",
    "plt.show()"
   ]
  },
  {
   "cell_type": "markdown",
   "metadata": {},
   "source": [
    "Судя по графику, я определил на нём присутствие отрицательной корреляции.\n",
    "\n",
    "Это просматривается на участках $$0.02^7- 0.5^7 \\\\ и \\\\ 0.8^7 - 1.7^7$$ по шкале 4046"
   ]
  },
  {
   "cell_type": "markdown",
   "metadata": {},
   "source": [
    "Проверим наше утверждение при помощи Коэффициента Пирсона:"
   ]
  },
  {
   "cell_type": "code",
   "execution_count": 69,
   "metadata": {},
   "outputs": [
    {
     "name": "stdout",
     "output_type": "stream",
     "text": [
      "Коэффициент Пирсона равен = -0.2083170484878849\n"
     ]
    }
   ],
   "source": [
    "corr = df[x_col_name].corr(df[y_col_name])\n",
    "\n",
    "print('Коэффициент Пирсона равен =', corr)"
   ]
  },
  {
   "cell_type": "markdown",
   "metadata": {},
   "source": [
    "Ответ подтверждает моё заключение, корреляция отрицательная!"
   ]
  }
 ],
 "metadata": {
  "colab": {
   "name": "dz.ipynb",
   "provenance": [],
   "version": "0.3.2"
  },
  "kernelspec": {
   "display_name": "Python 3",
   "language": "python",
   "name": "python3"
  },
  "language_info": {
   "codemirror_mode": {
    "name": "ipython",
    "version": 3
   },
   "file_extension": ".py",
   "mimetype": "text/x-python",
   "name": "python",
   "nbconvert_exporter": "python",
   "pygments_lexer": "ipython3",
   "version": "3.7.4"
  }
 },
 "nbformat": 4,
 "nbformat_minor": 1
}
